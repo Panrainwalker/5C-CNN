{
 "cells": [
  {
   "cell_type": "code",
   "execution_count": null,
   "id": "liked-bones",
   "metadata": {},
   "outputs": [],
   "source": [
    "import numpy as np\n",
    "import keras\n",
    "import matplotlib.pyplot as plt\n",
    "from keras import models\n",
    "from keras import layers\n",
    "from keras.layers import Dense,Flatten\n",
    "from keras.layers import MaxPooling2D\n",
    "import pandas as pd\n",
    "from keras.models import load_model\n",
    "import matplotlib.pyplot as plt\n",
    "import numpy as np\n",
    "from keras.layers import Input,Conv2D,MaxPool2D,Flatten,Dense\n",
    "from keras.models import Model,load_model\n",
    "from keras.callbacks import ModelCheckpoint\n",
    "from keras.optimizers import Adam ,RMSprop\n",
    "import scipy.io as sio\n",
    "import random\n",
    "from __future__ import print_function"
   ]
  },
  {
   "cell_type": "code",
   "execution_count": null,
   "id": "practical-worcester",
   "metadata": {},
   "outputs": [],
   "source": [
    "def load_data():\n",
    "    L=84 \n",
    "    x_prediction=sio.loadmat('/Users/apple/Documents/MATLAB/本科毕业论文/prediction/DATApy_predict.mat')\n",
    "#     x_prediction=sio.loadmat('/Users/apple/Documents/MATLAB/本科毕业论文/prediction/DATApy_t.mat')\n",
    "    x_prediction=x_prediction['DATApy_predict'][0:L]\n",
    "    \n",
    "  \n",
    "     #\n",
    "    return (x_prediction)\n",
    "\n"
   ]
  },
  {
   "cell_type": "code",
   "execution_count": null,
   "id": "million-temperature",
   "metadata": {},
   "outputs": [],
   "source": [
    "def load_data2():\n",
    "#     l0=(388-1)\n",
    "#     a=72\n",
    "    l0=11\n",
    "    l1=12\n",
    "    l2=9\n",
    "    l3=10\n",
    "    l4=12\n",
    "\n",
    "##################\n",
    "   \n",
    "    data=sio.loadmat('/Users/apple/Documents/MATLAB/本科毕业论文/prediction/DATApy_t.mat')\n",
    "\n",
    "    tr_num_1=l0\n",
    "    tr_num_2=l1+tr_num_1\n",
    "    tr_num_3=l2+tr_num_2\n",
    "    tr_num_4=l3+tr_num_3\n",
    "    tr_num_5=l4+tr_num_4\n",
    "\n",
    "    tr_num_11=l0\n",
    "    tr_num_22=l1\n",
    "    tr_num_33=l2\n",
    "    tr_num_44=l3\n",
    "    tr_num_55=l4\n",
    "    \n",
    "    x_train_1=data[0:tr_num_1,:,:,:]\n",
    "    x_train_2=data[tr_num_1:tr_num_2,:,:,:]\n",
    "    x_train_3=data[tr_num_2:tr_num_3,:,:,:]\n",
    "    x_train_4=data[tr_num_3:tr_num_4,:,:,:]\n",
    "    x_train_5=data[tr_num_4:tr_num_5,:,:,:]\n",
    "    \n",
    "    y_train_1=[[1,0,0,0,0]]*tr_num_11\n",
    "    y_train_2=[[0,1,0,0,0]]*tr_num_22\n",
    "    y_train_3=[[0,0,1,0,0]]*tr_num_33\n",
    "    y_train_4=[[0,0,0,1,0]]*tr_num_44\n",
    "    y_train_5=[[0,0,0,0,1]]*tr_num_55\n",
    "\n",
    "\n",
    "    \n",
    "    x_prediction=np.concatenate((x_train_1,x_train_2,x_train_3,x_train_4,x_train_5))\n",
    "    y_prediction=np.concatenate((y_train_1,y_train_2,y_train_3,y_train_4,y_train_5))\n",
    "    \n",
    "    return (x_prediction,y_prediction)\n",
    "    \n"
   ]
  },
  {
   "cell_type": "code",
   "execution_count": null,
   "id": "black-cleaners",
   "metadata": {},
   "outputs": [],
   "source": [
    "def plot_ntrc(data):\n",
    "    dmax=data.max()\n",
    "#     for i,data1 in enumerate(data):\n",
    "#         plt.plot(data1[:]+i*dmax)\n",
    "    for i,data1 in enumerate(data):\n",
    "        for ii in [0, 1, 2]:\n",
    "#             if ii==0:\n",
    "#                  plt.plot(data1[:,ii]+i*dmax,'mediumpurple')\n",
    "#             if ii==1:\n",
    "#                  plt.plot(data1[:,ii]+i*dmax,'lightcoral')\n",
    "#             if ii==2:\n",
    "#                  plt.plot(data1[:,ii]+i*dmax,'cadetblue')\n",
    "            if ii==0:\n",
    "                 plt.plot(data1[:,ii]+i*dmax,'r')\n",
    "            if ii==1:\n",
    "                 plt.plot(data1[:,ii]+i*dmax,'b')\n",
    "            if ii==2:\n",
    "                 plt.plot(data1[:,ii]+i*dmax,'g')\n",
    "    \n",
    "#     plt.tight_layout()\n",
    "#     plt.savefig('典型.png',dpi=1200)"
   ]
  },
  {
   "cell_type": "code",
   "execution_count": null,
   "id": "colonial-andrew",
   "metadata": {},
   "outputs": [],
   "source": [
    "network=load_model('model/my_network_4.3.h5')\n",
    "# network=load_model('model/my_network-2_4.4.h5') #二分类模型\n",
    "# network.summary()"
   ]
  },
  {
   "cell_type": "code",
   "execution_count": null,
   "id": "variable-syndication",
   "metadata": {},
   "outputs": [],
   "source": [
    "(x_prediction)=load_data()"
   ]
  },
  {
   "cell_type": "markdown",
   "id": "desirable-evening",
   "metadata": {},
   "source": [
    "## 预测"
   ]
  },
  {
   "cell_type": "code",
   "execution_count": null,
   "id": "uniform-savings",
   "metadata": {},
   "outputs": [],
   "source": [
    "label_predict=np.argmax(network.predict(x_prediction),axis=1)\n",
    "label_predict\n"
   ]
  },
  {
   "cell_type": "code",
   "execution_count": null,
   "id": "loose-external",
   "metadata": {},
   "outputs": [],
   "source": [
    "thresholds=[0.2631578947368421,\n",
    " 0.6842105263157894,\n",
    " 0.05263157894736842,\n",
    " 0.8421052631578947,\n",
    " 0.10526315789473684]\n",
    "\n",
    "# thresholds=[0.2631578947368421,\n",
    "#  0.6842105263157894]\n",
    "\n",
    "# 预测测试集\n",
    "y_test_pred = network.predict(x_prediction)\n",
    "\n",
    "# 使用阈值进行二值化处理\n",
    "y_test_pred_thresholded = np.zeros_like(y_test_pred)\n",
    "for i in range(5):\n",
    "    y_test_pred_thresholded[:, i] = (y_test_pred[:, i] >= thresholds[i]).astype(int)\n",
    "\n",
    "\n",
    "# 处理多个都大于阈值的情况\n",
    "label_predict = np.argmax(y_test_pred_thresholded,axis=1)\n",
    "for i in range(y_test_pred_thresholded.shape[0]):\n",
    "    indices = np.where(y_test_pred_thresholded[i] == 1)[0]\n",
    "    if len(indices) > 1:\n",
    "        label_predict[i] = indices[np.argmax(y_test_pred[i, indices])]\n",
    "\n",
    "label_predict\n",
    "\n"
   ]
  },
  {
   "cell_type": "code",
   "execution_count": null,
   "id": "adverse-record",
   "metadata": {},
   "outputs": [],
   "source": []
  },
  {
   "cell_type": "markdown",
   "id": "bigger-wealth",
   "metadata": {},
   "source": [
    "## 保存2、3类事件至MATLAB"
   ]
  },
  {
   "cell_type": "code",
   "execution_count": null,
   "id": "christian-bacon",
   "metadata": {},
   "outputs": [],
   "source": [
    "label0 = [index for index,value in enumerate(label_predict) if value ==0]\n",
    "label1 = [index for index,value in enumerate(label_predict) if value ==1]\n",
    "label2 = [index for index,value in enumerate(label_predict) if value ==2]\n",
    "label3 = [index for index,value in enumerate(label_predict) if value ==3]\n",
    "label4 = [index for index,value in enumerate(label_predict) if value ==4]"
   ]
  },
  {
   "cell_type": "code",
   "execution_count": null,
   "id": "purple-vault",
   "metadata": {
    "scrolled": true
   },
   "outputs": [],
   "source": [
    "L=label4\n",
    "\n",
    "for ii in list(range(len(L))):\n",
    "    plt.figure(ii)\n",
    "    plot_ntrc(x_prediction[L[ii]])"
   ]
  },
  {
   "cell_type": "code",
   "execution_count": null,
   "id": "skilled-acting",
   "metadata": {},
   "outputs": [],
   "source": [
    "\n",
    "for ii in list(range(84)):\n",
    "    plt.figure(ii)\n",
    "    plot_ntrc(x_prediction[ii])"
   ]
  },
  {
   "cell_type": "code",
   "execution_count": null,
   "id": "bright-emergency",
   "metadata": {},
   "outputs": [],
   "source": []
  },
  {
   "cell_type": "code",
   "execution_count": null,
   "id": "protected-taylor",
   "metadata": {},
   "outputs": [],
   "source": []
  },
  {
   "cell_type": "code",
   "execution_count": null,
   "id": "wooden-ready",
   "metadata": {},
   "outputs": [],
   "source": []
  },
  {
   "cell_type": "code",
   "execution_count": null,
   "id": "drawn-locator",
   "metadata": {},
   "outputs": [],
   "source": [
    "aa=22\n",
    "plot_ntrc(x_prediction[aa])\n",
    "\n",
    "a=network.predict(x_prediction)\n",
    "a[aa]"
   ]
  },
  {
   "cell_type": "code",
   "execution_count": null,
   "id": "checked-regard",
   "metadata": {},
   "outputs": [],
   "source": []
  },
  {
   "cell_type": "code",
   "execution_count": null,
   "id": "incorporate-inclusion",
   "metadata": {},
   "outputs": [],
   "source": []
  },
  {
   "cell_type": "code",
   "execution_count": null,
   "id": "formal-movement",
   "metadata": {},
   "outputs": [],
   "source": []
  },
  {
   "cell_type": "code",
   "execution_count": null,
   "id": "ceramic-glucose",
   "metadata": {},
   "outputs": [],
   "source": []
  },
  {
   "cell_type": "code",
   "execution_count": null,
   "id": "protected-memphis",
   "metadata": {},
   "outputs": [],
   "source": []
  },
  {
   "cell_type": "code",
   "execution_count": null,
   "id": "loose-opinion",
   "metadata": {},
   "outputs": [],
   "source": [
    "label_predict[aa]\n"
   ]
  },
  {
   "cell_type": "code",
   "execution_count": null,
   "id": "virtual-element",
   "metadata": {},
   "outputs": [],
   "source": [
    "len(label0)"
   ]
  },
  {
   "cell_type": "code",
   "execution_count": null,
   "id": "offshore-malaysia",
   "metadata": {},
   "outputs": [],
   "source": [
    "len(label1)\n"
   ]
  },
  {
   "cell_type": "code",
   "execution_count": null,
   "id": "direct-delay",
   "metadata": {},
   "outputs": [],
   "source": [
    "len(label2)"
   ]
  },
  {
   "cell_type": "code",
   "execution_count": null,
   "id": "mysterious-coast",
   "metadata": {},
   "outputs": [],
   "source": [
    "len(label3)"
   ]
  },
  {
   "cell_type": "code",
   "execution_count": null,
   "id": "competitive-lawyer",
   "metadata": {},
   "outputs": [],
   "source": [
    "len(label4)"
   ]
  },
  {
   "cell_type": "markdown",
   "id": "reliable-candy",
   "metadata": {},
   "source": [
    "# 保存数据"
   ]
  },
  {
   "cell_type": "code",
   "execution_count": null,
   "id": "superior-minority",
   "metadata": {},
   "outputs": [],
   "source": [
    "import scipy.io as sio\n",
    "sio.savemat('/Users/apple/Documents/MATLAB/本科毕业论文/prediction/label_predict.mat', {'label_predict': label_predict}) #预测数据保存到matlab"
   ]
  },
  {
   "cell_type": "code",
   "execution_count": null,
   "id": "independent-indonesian",
   "metadata": {},
   "outputs": [],
   "source": [
    "\n",
    "sio.savemat('/Users/apple/Documents/MATLAB/本科毕业论文/画图/label_predict.mat', {'label_predict': label_predict}) "
   ]
  },
  {
   "cell_type": "code",
   "execution_count": null,
   "id": "powered-andrew",
   "metadata": {},
   "outputs": [],
   "source": []
  },
  {
   "cell_type": "code",
   "execution_count": null,
   "id": "occasional-bumper",
   "metadata": {},
   "outputs": [],
   "source": []
  },
  {
   "cell_type": "markdown",
   "id": "painful-process",
   "metadata": {},
   "source": [
    "# 在matlab进行视窗移动"
   ]
  },
  {
   "cell_type": "markdown",
   "id": "regional-nickname",
   "metadata": {},
   "source": [
    "# 再次预测"
   ]
  },
  {
   "cell_type": "code",
   "execution_count": null,
   "id": "nervous-ghana",
   "metadata": {},
   "outputs": [],
   "source": [
    "def load_data():\n",
    "    L=23\n",
    "#     x_prediction=sio.loadmat('/Users/apple/Documents/MATLAB/井中微地震监测/prediction/DATApy_predict.mat')\n",
    "    x_prediction=sio.loadmat('/Users/apple/Documents/MATLAB/本科毕业论文/prediction/DATApy_pred_a.mat')\n",
    "    x_prediction=x_prediction['DATApy_pred_a'][0:L]\n",
    "\n",
    "    return (x_prediction)\n"
   ]
  },
  {
   "cell_type": "code",
   "execution_count": null,
   "id": "understanding-kenya",
   "metadata": {},
   "outputs": [],
   "source": [
    "(x_prediction_n)=load_data()"
   ]
  },
  {
   "cell_type": "code",
   "execution_count": null,
   "id": "heated-controversy",
   "metadata": {},
   "outputs": [],
   "source": [
    "label_predictn=np.argmax(network.predict(x_prediction_n),axis=1)\n",
    "label_predictn"
   ]
  },
  {
   "cell_type": "code",
   "execution_count": null,
   "id": "forbidden-monster",
   "metadata": {},
   "outputs": [],
   "source": [
    "thresholds=[0.2631578947368421,\n",
    " 0.6842105263157894,\n",
    " 0.05263157894736842,\n",
    " 0.8421052631578947,\n",
    " 0.10526315789473684]\n",
    "\n",
    "\n",
    "# 预测测试集\n",
    "y_test_pred = network.predict(x_prediction_n)\n",
    "\n",
    "# 使用阈值进行二值化处理\n",
    "y_test_pred_thresholded = np.zeros_like(y_test_pred)\n",
    "for i in range(5):\n",
    "    y_test_pred_thresholded[:, i] = (y_test_pred[:, i] >= thresholds[i]).astype(int)\n",
    "\n",
    "\n",
    "# 处理多个都大于阈值的情况\n",
    "label_predictn = np.argmax(y_test_pred_thresholded,axis=1)\n",
    "for i in range(y_test_pred_thresholded.shape[0]):\n",
    "    indices = np.where(y_test_pred_thresholded[i] == 1)[0]\n",
    "    if len(indices) > 1:\n",
    "        label_predictn[i] = indices[np.argmax(y_test_pred[i, indices])]\n",
    "\n",
    "label_predictn\n",
    "\n"
   ]
  },
  {
   "cell_type": "code",
   "execution_count": null,
   "id": "supported-chair",
   "metadata": {},
   "outputs": [],
   "source": [
    "label0 = [index for index,value in enumerate(label_predictn) if value ==0]\n",
    "label1 = [index for index,value in enumerate(label_predictn) if value ==1]\n",
    "label2 = [index for index,value in enumerate(label_predictn) if value ==2]\n",
    "label3 = [index for index,value in enumerate(label_predictn) if value ==3]\n",
    "label4 = [index for index,value in enumerate(label_predictn) if value ==4]"
   ]
  },
  {
   "cell_type": "code",
   "execution_count": null,
   "id": "spanish-independence",
   "metadata": {},
   "outputs": [],
   "source": [
    "L=label1\n",
    "for ii in list(range(len(L))):\n",
    "    plt.figure(ii)\n",
    "    plot_ntrc(x_prediction_n[L[ii]])\n",
    "    print(L[ii])"
   ]
  },
  {
   "cell_type": "code",
   "execution_count": null,
   "id": "prompt-resident",
   "metadata": {},
   "outputs": [],
   "source": [
    "sio.savemat('/Users/apple/Documents/MATLAB/本科毕业论文/画图/label_predictn.mat', {'label_predictn': label_predictn}) "
   ]
  },
  {
   "cell_type": "code",
   "execution_count": null,
   "id": "occasional-expert",
   "metadata": {},
   "outputs": [],
   "source": [
    "def plot_ntrc(data):\n",
    "    dmax=data.max()\n",
    "#     for i,data1 in enumerate(data):\n",
    "#         plt.plot(data1[:]+i*dmax)\n",
    "    for i,data1 in enumerate(data):\n",
    "        for ii in [0, 1, 2]:\n",
    "#             if ii==0:\n",
    "#                  plt.plot(data1[:,ii]+i*dmax,'mediumpurple')\n",
    "#             if ii==1:\n",
    "#                  plt.plot(data1[:,ii]+i*dmax,'lightcoral')\n",
    "#             if ii==2:\n",
    "#                  plt.plot(data1[:,ii]+i*dmax,'cadetblue')\n",
    "            if ii==0:\n",
    "                 plt.plot(data1[:,ii]+i*dmax,'r')\n",
    "            if ii==1:\n",
    "                 plt.plot(data1[:,ii]+i*dmax,'b')\n",
    "            if ii==2:\n",
    "                 plt.plot(data1[:,ii]+i*dmax,'g')\n",
    "    \n",
    "    plt.tight_layout()\n",
    "    plt.savefig('典型3-2.png',dpi=1200)"
   ]
  },
  {
   "cell_type": "code",
   "execution_count": null,
   "id": "light-worse",
   "metadata": {},
   "outputs": [],
   "source": [
    "aa=5\n",
    "plot_ntrc(x_prediction_n[aa])\n",
    "\n"
   ]
  },
  {
   "cell_type": "code",
   "execution_count": null,
   "id": "corrected-somerset",
   "metadata": {},
   "outputs": [],
   "source": []
  },
  {
   "cell_type": "code",
   "execution_count": null,
   "id": "solar-xerox",
   "metadata": {},
   "outputs": [],
   "source": []
  },
  {
   "cell_type": "code",
   "execution_count": null,
   "id": "decent-premiere",
   "metadata": {},
   "outputs": [],
   "source": []
  },
  {
   "cell_type": "code",
   "execution_count": null,
   "id": "treated-hanging",
   "metadata": {},
   "outputs": [],
   "source": []
  },
  {
   "cell_type": "code",
   "execution_count": null,
   "id": "formed-johnson",
   "metadata": {},
   "outputs": [],
   "source": []
  },
  {
   "cell_type": "code",
   "execution_count": null,
   "id": "novel-prescription",
   "metadata": {},
   "outputs": [],
   "source": []
  },
  {
   "cell_type": "code",
   "execution_count": null,
   "id": "pressing-documentary",
   "metadata": {},
   "outputs": [],
   "source": []
  },
  {
   "cell_type": "code",
   "execution_count": null,
   "id": "straight-charity",
   "metadata": {},
   "outputs": [],
   "source": []
  },
  {
   "cell_type": "code",
   "execution_count": null,
   "id": "compliant-chester",
   "metadata": {},
   "outputs": [],
   "source": []
  }
 ],
 "metadata": {
  "kernelspec": {
   "display_name": "Python 3",
   "language": "python",
   "name": "python3"
  },
  "language_info": {
   "codemirror_mode": {
    "name": "ipython",
    "version": 3
   },
   "file_extension": ".py",
   "mimetype": "text/x-python",
   "name": "python",
   "nbconvert_exporter": "python",
   "pygments_lexer": "ipython3",
   "version": "3.8.6"
  }
 },
 "nbformat": 4,
 "nbformat_minor": 5
}
